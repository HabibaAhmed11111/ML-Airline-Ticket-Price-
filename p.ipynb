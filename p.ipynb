{
 "cells": [
  {
   "cell_type": "code",
   "execution_count": null,
   "metadata": {},
   "outputs": [],
   "source": [
    "import pandas as pd\n",
    "\n",
    "from sklearn.model_selection import train_test_split\n",
    "from sklearn.preprocessing import LabelEncoder\n",
    "from sklearn.ensemble import RandomForestRegressor\n",
    "import numpy as np\n",
    "from sklearn.metrics import mean_squared_error, r2_score , mean_absolute_error"
   ]
  },
  {
   "cell_type": "code",
   "execution_count": 72,
   "metadata": {},
   "outputs": [],
   "source": [
    "# Load the data from the Excel file\n",
    "df = pd.read_excel('Data_Train.xlsx')"
   ]
  },
  {
   "cell_type": "code",
   "execution_count": null,
   "metadata": {},
   "outputs": [],
   "source": [
    "print(df.head(10))"
   ]
  },
  {
   "cell_type": "markdown",
   "metadata": {},
   "source": [
    "# Step 1: Data Preprocessing\n"
   ]
  },
  {
   "cell_type": "code",
   "execution_count": null,
   "metadata": {},
   "outputs": [],
   "source": [
    "df.info()"
   ]
  },
  {
   "cell_type": "code",
   "execution_count": null,
   "metadata": {},
   "outputs": [],
   "source": [
    "df.isnull().sum()"
   ]
  },
  {
   "cell_type": "code",
   "execution_count": null,
   "metadata": {},
   "outputs": [],
   "source": [
    "missing_data = df[df['Route'].isnull() | df['Total_Stops'].isnull()]\n",
    "print(missing_data)"
   ]
  },
  {
   "cell_type": "code",
   "execution_count": 77,
   "metadata": {},
   "outputs": [],
   "source": [
    "df.dropna(inplace=True)"
   ]
  },
  {
   "cell_type": "code",
   "execution_count": null,
   "metadata": {},
   "outputs": [],
   "source": [
    "df.isnull().sum()"
   ]
  },
  {
   "cell_type": "code",
   "execution_count": null,
   "metadata": {},
   "outputs": [],
   "source": [
    "df.duplicated().sum()"
   ]
  },
  {
   "cell_type": "code",
   "execution_count": 80,
   "metadata": {},
   "outputs": [],
   "source": [
    "df.drop_duplicates(inplace = True)"
   ]
  },
  {
   "cell_type": "code",
   "execution_count": null,
   "metadata": {},
   "outputs": [],
   "source": [
    "df.duplicated().sum()"
   ]
  },
  {
   "cell_type": "code",
   "execution_count": null,
   "metadata": {},
   "outputs": [],
   "source": [
    "df.info()"
   ]
  },
  {
   "cell_type": "markdown",
   "metadata": {},
   "source": [
    "# Exploratory Data Analysis"
   ]
  },
  {
   "cell_type": "code",
   "execution_count": null,
   "metadata": {},
   "outputs": [],
   "source": [
    "df.describe()"
   ]
  },
  {
   "cell_type": "code",
   "execution_count": 84,
   "metadata": {},
   "outputs": [],
   "source": [
    "# Convert 'Date_of_Journey' to datetime format and extract day and month\n",
    "df['Journey_Day'] = pd.to_datetime(df['Date_of_Journey'], format='%d/%m/%Y').dt.day\n",
    "df['Journey_Month'] = pd.to_datetime(df['Date_of_Journey'], format='%d/%m/%Y').dt.month"
   ]
  },
  {
   "cell_type": "code",
   "execution_count": 85,
   "metadata": {},
   "outputs": [],
   "source": [
    "# Convert 'Dep_Time' and 'Arrival_Time' to datetime format and extract hour and minute\n",
    "df['Dep_Hour'] = pd.to_datetime(df['Dep_Time'], format='%H:%M').dt.hour\n",
    "df['Dep_Minute'] = pd.to_datetime(df['Dep_Time'], format='%H:%M').dt.minute"
   ]
  },
  {
   "cell_type": "code",
   "execution_count": 86,
   "metadata": {},
   "outputs": [],
   "source": [
    "# Handle 'Arrival_Time' separately due to potential date information included\n",
    "arrival_times = df['Arrival_Time'].str.extract(r'(\\d{2}:\\d{2})')\n",
    "df['Arrival_Hour'] = pd.to_datetime(arrival_times[0], format='%H:%M').dt.hour\n",
    "df['Arrival_Minute'] = pd.to_datetime(arrival_times[0], format='%H:%M').dt.minute"
   ]
  },
  {
   "cell_type": "code",
   "execution_count": 87,
   "metadata": {},
   "outputs": [],
   "source": [
    "# Drop the original columns that have been transformed\n",
    "df.drop(['Date_of_Journey', 'Dep_Time', 'Arrival_Time'], axis=1, inplace=True)"
   ]
  },
  {
   "cell_type": "code",
   "execution_count": 88,
   "metadata": {},
   "outputs": [],
   "source": [
    "# Convert 'Duration' to total minutes\n",
    "duration = df['Duration'].str.extract(r'(?:(\\d+)h)?\\s*(?:(\\d+)m)?')\n",
    "duration = duration.fillna(0).astype(int)\n",
    "df['Duration_Minutes'] = duration[0] * 60 + duration[1]"
   ]
  },
  {
   "cell_type": "code",
   "execution_count": 89,
   "metadata": {},
   "outputs": [],
   "source": [
    "# Drop the original 'Duration' column\n",
    "df.drop(['Duration'], axis=1, inplace=True)"
   ]
  },
  {
   "cell_type": "code",
   "execution_count": null,
   "metadata": {},
   "outputs": [],
   "source": [
    "df['Total_Stops'] = df['Total_Stops'].str.extract('(\\d+)').fillna(0).astype(int)"
   ]
  },
  {
   "cell_type": "code",
   "execution_count": null,
   "metadata": {},
   "outputs": [],
   "source": [
    "df"
   ]
  },
  {
   "cell_type": "markdown",
   "metadata": {},
   "source": [
    "# Visualization"
   ]
  },
  {
   "cell_type": "code",
   "execution_count": 92,
   "metadata": {},
   "outputs": [],
   "source": [
    "%matplotlib inline\n",
    "import pandas as pd\n",
    "import matplotlib.pyplot as plt\n",
    "import seaborn as sns\n",
    "from sklearn.preprocessing import LabelEncoder\n",
    "import plotly.express as px\n",
    "from matplotlib.colors import LinearSegmentedColormap\n",
    "import plotly.express as px\n"
   ]
  },
  {
   "cell_type": "code",
   "execution_count": null,
   "metadata": {},
   "outputs": [],
   "source": [
    "df.columns"
   ]
  },
  {
   "cell_type": "markdown",
   "metadata": {},
   "source": [
    "* Histogram of Price Distribution"
   ]
  },
  {
   "cell_type": "code",
   "execution_count": null,
   "metadata": {},
   "outputs": [],
   "source": [
    "\n",
    "# Histogram for Price Distribution\n",
    "plt.figure(figsize=(10, 6))\n",
    "sns.histplot(df['Price'], bins=50, kde=True, color='royalblue')\n",
    "plt.title('Price Distribution')\n",
    "plt.xlabel('Price')\n",
    "plt.ylabel('Frequency')\n",
    "plt.show()\n"
   ]
  },
  {
   "cell_type": "code",
   "execution_count": null,
   "metadata": {},
   "outputs": [],
   "source": [
    "df[\"Source\"].value_counts()"
   ]
  },
  {
   "cell_type": "markdown",
   "metadata": {},
   "source": [
    "* Distribution of flights by Source"
   ]
  },
  {
   "cell_type": "code",
   "execution_count": null,
   "metadata": {},
   "outputs": [],
   "source": [
    "# Pie chart to show the distribution of flights by source\n",
    "fig = px.pie(df, names='Source', title='Distribution of Flights by Source', color='Airline', \n",
    "             color_discrete_sequence=px.colors.sequential.Reds)\n",
    "\n",
    "# Update the layout to increase the size of the pie chart\n",
    "fig.update_layout(\n",
    "    width=800,  # Adjust width as needed\n",
    "    height=800,  # Adjust height as needed\n",
    ")\n",
    "\n",
    "fig.show()\n"
   ]
  },
  {
   "cell_type": "markdown",
   "metadata": {},
   "source": [
    "* Histogram of Airline Distribution"
   ]
  },
  {
   "cell_type": "code",
   "execution_count": null,
   "metadata": {},
   "outputs": [],
   "source": [
    "px.histogram(data_frame=df, x=\"Airline\", color_discrete_sequence=['royalblue'])"
   ]
  },
  {
   "cell_type": "markdown",
   "metadata": {},
   "source": [
    "* Distribution of Price by Airline"
   ]
  },
  {
   "cell_type": "code",
   "execution_count": null,
   "metadata": {},
   "outputs": [],
   "source": [
    "# Create a histogram to show the distribution of prices by airline\n",
    "fig = px.histogram(data_frame=df, x=\"Airline\", y=\"Price\", color=\"Airline\", \n",
    "                   color_discrete_sequence=px.colors.sequential.Reds)\n",
    "fig.update_layout(title=\"Distribution of Price by Airline\", xaxis_title=\"Airline\", yaxis_title=\"Price\")\n",
    "fig.show()"
   ]
  },
  {
   "cell_type": "code",
   "execution_count": null,
   "metadata": {},
   "outputs": [],
   "source": [
    "plt.figure(figsize=(10, 6))\n",
    "sns.kdeplot(data=df, x=\"Price\", hue=\"Airline\", fill=True, common_norm=False, palette=\"Set1\")\n",
    "plt.title(\"Price Distribution by Airline\")\n",
    "plt.xlabel(\"Price\")\n",
    "plt.ylabel(\"Density\")\n",
    "plt.show()"
   ]
  },
  {
   "cell_type": "markdown",
   "metadata": {},
   "source": [
    "* Distribution of Journeys by Day"
   ]
  },
  {
   "cell_type": "code",
   "execution_count": null,
   "metadata": {},
   "outputs": [],
   "source": [
    "plt.figure(figsize=(10, 6))\n",
    "sns.countplot(x='Journey_Day', data=df, palette=['royalblue'])\n",
    "plt.title('Distribution of Journeys by Day')\n",
    "plt.xlabel('Journey Day')\n",
    "plt.ylabel('Count')\n",
    "plt.show()\n"
   ]
  },
  {
   "cell_type": "markdown",
   "metadata": {},
   "source": [
    "* Distribution of Price by Journey_Day"
   ]
  },
  {
   "cell_type": "code",
   "execution_count": null,
   "metadata": {},
   "outputs": [],
   "source": [
    "# Boxplot to show price distribution by Journey_Day\n",
    "plt.figure(figsize=(10, 6))\n",
    "sns.boxplot(x=\"Journey_Day\", y=\"Price\", data=df, palette=\"Paired\")\n",
    "plt.title(\"Boxplot of Price by Journey Day\")\n",
    "plt.xlabel(\"Journey Day\")\n",
    "plt.ylabel(\"Price\")\n",
    "plt.show()"
   ]
  },
  {
   "cell_type": "markdown",
   "metadata": {},
   "source": [
    "boxplot helps to identify the median, quartiles, and potential outliers for each column."
   ]
  },
  {
   "cell_type": "markdown",
   "metadata": {},
   "source": [
    "* Distribution of Journeys by Month"
   ]
  },
  {
   "cell_type": "code",
   "execution_count": null,
   "metadata": {},
   "outputs": [],
   "source": [
    "plt.figure(figsize=(10, 6))\n",
    "sns.countplot(x='Journey_Month', data=df, palette=['royalblue'])\n",
    "plt.title('Distribution of Journeys by Month')\n",
    "plt.xlabel('Journey Month')\n",
    "plt.ylabel('Count')\n",
    "plt.show()"
   ]
  },
  {
   "cell_type": "markdown",
   "metadata": {},
   "source": [
    "* Distribution of Price by Journey_Month"
   ]
  },
  {
   "cell_type": "code",
   "execution_count": null,
   "metadata": {},
   "outputs": [],
   "source": [
    "# Boxplot to show price distribution by Journey_Month\n",
    "plt.figure(figsize=(10, 6))\n",
    "sns.boxplot(x=\"Journey_Month\", y=\"Price\", data=df, palette=\"Set2\")\n",
    "plt.title(\"Boxplot of Price by Journey Month\")\n",
    "plt.xlabel(\"Journey Month\")\n",
    "plt.ylabel(\"Price\")\n",
    "plt.show()"
   ]
  },
  {
   "cell_type": "markdown",
   "metadata": {},
   "source": [
    "*  Flight Price vs Duration by Airline"
   ]
  },
  {
   "cell_type": "code",
   "execution_count": 104,
   "metadata": {},
   "outputs": [],
   "source": [
    "diverse_colors = [\n",
    "    '#FF5733',  # Red-Orange\n",
    "    '#33FF57',  # Green\n",
    "    '#3357FF',  # Blue\n",
    "    '#FF33A6',  # Pink\n",
    "    '#FFD633',  # Yellow\n",
    "    '#33FFF9',  # Aqua\n",
    "    '#8D33FF',  # Purple\n",
    "    '#FF8633',  # Tangerine\n",
    "    '#85FF33',  # Lime\n",
    "    '#FF3333',  # Bright Red\n",
    "    '#33FF85',  # Mint Green\n",
    "    '#000000'   # Black\n",
    "]\n"
   ]
  },
  {
   "cell_type": "code",
   "execution_count": null,
   "metadata": {},
   "outputs": [],
   "source": [
    "fig = px.scatter(df, x='Duration_Minutes', y='Price', color='Airline', \n",
    "                 color_discrete_sequence=diverse_colors)\n",
    "fig.update_layout(title=\"Price vs Duration by Airline\", xaxis_title=\"Duration in Minutes\", yaxis_title=\"Price\")\n",
    "fig.show()\n"
   ]
  },
  {
   "cell_type": "markdown",
   "metadata": {},
   "source": [
    "* Distribution of Price by Destination"
   ]
  },
  {
   "cell_type": "code",
   "execution_count": null,
   "metadata": {},
   "outputs": [],
   "source": [
    "# Bar plot showing price distribution by destination\n",
    "fig = px.bar(df, x='Destination', y='Price', color='Destination', \n",
    "             color_discrete_sequence=['royalblue'])\n",
    "fig.update_layout(title=\"Price Distribution by Destination\", xaxis_title=\"Destination\", yaxis_title=\"Price\")\n",
    "fig.show()\n"
   ]
  },
  {
   "cell_type": "markdown",
   "metadata": {},
   "source": [
    "* Frequency Distribution of Total Stops in Flights"
   ]
  },
  {
   "cell_type": "code",
   "execution_count": null,
   "metadata": {},
   "outputs": [],
   "source": [
    "plt.figure(figsize=(10, 6))\n",
    "sns.countplot(x='Total_Stops', data=df, palette=\"Reds\")\n",
    "plt.title(\"Count of Total Stops\")\n",
    "plt.xlabel(\"Total Stops\")\n",
    "plt.ylabel(\"Count\")\n",
    "plt.show()\n"
   ]
  },
  {
   "cell_type": "markdown",
   "metadata": {},
   "source": [
    "* Distribution of Price by Total Stops (Strip Plot)"
   ]
  },
  {
   "cell_type": "code",
   "execution_count": null,
   "metadata": {},
   "outputs": [],
   "source": [
    "plt.figure(figsize=(12, 6))\n",
    "sns.stripplot(x='Total_Stops', y='Price', data=df, jitter=True, palette='Set3')\n",
    "plt.title('Price Distribution by Total Stops')\n",
    "plt.xlabel('Total Stops')\n",
    "plt.ylabel('Price')\n",
    "plt.show()\n"
   ]
  },
  {
   "cell_type": "markdown",
   "metadata": {},
   "source": [
    "* Frequency Distribution of Additional Information Categories"
   ]
  },
  {
   "cell_type": "code",
   "execution_count": null,
   "metadata": {},
   "outputs": [],
   "source": [
    "px.histogram(data_frame=df, x=\"Additional_Info\", color_discrete_sequence=['royalblue'])"
   ]
  },
  {
   "cell_type": "markdown",
   "metadata": {},
   "source": [
    "* Price Distribution Across Additional Information Categories"
   ]
  },
  {
   "cell_type": "code",
   "execution_count": null,
   "metadata": {},
   "outputs": [],
   "source": [
    "# Create a histogram to show the distribution of prices by Additional_Info\n",
    "fig = px.histogram(data_frame=df, x=\"Additional_Info\", y=\"Price\", color=\"Additional_Info\", \n",
    "                   color_discrete_sequence=px.colors.sequential.Reds)\n",
    "fig.update_layout(title=\"Distribution of Price by Additional_Info\", xaxis_title=\"Additional_Info\", yaxis_title=\"Price\")\n",
    "fig.show()"
   ]
  },
  {
   "cell_type": "markdown",
   "metadata": {},
   "source": [
    "* Distribution of Flights by Route"
   ]
  },
  {
   "cell_type": "code",
   "execution_count": null,
   "metadata": {},
   "outputs": [],
   "source": [
    "fig = px.histogram(data_frame=df, x=\"Route\", color=\"Route\", \n",
    "                   color_discrete_sequence=px.colors.sequential.Reds)\n",
    "fig.update_layout(\n",
    "    title=\"Distribution of Flights by Route\",\n",
    "    xaxis_title=\"Route\",\n",
    "    yaxis_title=\"Count\"\n",
    ")\n",
    "fig.show()"
   ]
  },
  {
   "cell_type": "code",
   "execution_count": null,
   "metadata": {},
   "outputs": [],
   "source": [
    "\n",
    "numeric_df = df.select_dtypes(include=['int'])\n",
    "corr_matrix = numeric_df.corr()\n",
    "sns.heatmap(corr_matrix, annot=True, cmap='coolwarm',linewidths=0.5)\n",
    "plt.title('Correlation Heatmap')\n",
    "plt.show()"
   ]
  },
  {
   "cell_type": "code",
   "execution_count": null,
   "metadata": {},
   "outputs": [],
   "source": [
    "df.info()"
   ]
  },
  {
   "cell_type": "code",
   "execution_count": 114,
   "metadata": {},
   "outputs": [],
   "source": [
    "# Encode categorical features using LabelEncoder\n",
    "label_encoder = LabelEncoder()\n",
    "categorical_columns = ['Airline', 'Source', 'Destination', 'Route', 'Additional_Info']\n",
    "for column in categorical_columns:\n",
    "    df[column] = label_encoder.fit_transform(df[column])"
   ]
  },
  {
   "cell_type": "code",
   "execution_count": null,
   "metadata": {},
   "outputs": [],
   "source": [
    "df.info()"
   ]
  },
  {
   "cell_type": "code",
   "execution_count": 116,
   "metadata": {},
   "outputs": [],
   "source": [
    "df.to_excel('Data_Processed.xlsx', index=False)"
   ]
  },
  {
   "cell_type": "markdown",
   "metadata": {},
   "source": [
    "## Step 2: Modeling \n",
    "\n",
    "\n"
   ]
  },
  {
   "cell_type": "code",
   "execution_count": 117,
   "metadata": {},
   "outputs": [],
   "source": [
    "from sklearn.preprocessing import OneHotEncoder, StandardScaler\n",
    "from sklearn.impute import SimpleImputer, KNNImputer\n",
    "from sklearn.pipeline import Pipeline\n",
    "from sklearn.linear_model import LogisticRegression\n",
    "from sklearn.neighbors import KNeighborsClassifier\n",
    "from sklearn.svm import SVR\n",
    "from sklearn.naive_bayes import GaussianNB\n",
    "from sklearn.model_selection import cross_validate\n",
    "from sklearn.tree import DecisionTreeClassifier\n",
    "from sklearn.ensemble import RandomForestClassifier\n",
    "from sklearn.linear_model import LinearRegression\n",
    "\n",
    "# from xgboost import XGBClassifier"
   ]
  },
  {
   "cell_type": "code",
   "execution_count": 118,
   "metadata": {},
   "outputs": [],
   "source": [
    "df_Processed = pd.read_excel('Data_Processed.xlsx')"
   ]
  },
  {
   "cell_type": "code",
   "execution_count": 119,
   "metadata": {},
   "outputs": [],
   "source": [
    "X = df_Processed.drop(['Price'], axis=1)\n",
    "y = df_Processed['Price']"
   ]
  },
  {
   "cell_type": "code",
   "execution_count": 120,
   "metadata": {},
   "outputs": [],
   "source": [
    "Num_Columns = X.select_dtypes(include=\"number\")"
   ]
  },
  {
   "cell_type": "code",
   "execution_count": 121,
   "metadata": {},
   "outputs": [],
   "source": [
    "Num_Steps = [\n",
    "    (\"Num_Imputer\", KNNImputer()),  \n",
    "    (\"Scaler\", StandardScaler())   \n",
    "]\n",
    "Num_Pipeline = Pipeline(steps=Num_Steps)\n"
   ]
  },
  {
   "cell_type": "code",
   "execution_count": 122,
   "metadata": {},
   "outputs": [],
   "source": [
    "X_train, X_test, y_train, y_test = train_test_split(X, y, test_size=0.2, random_state=42)\n"
   ]
  },
  {
   "cell_type": "code",
   "execution_count": 123,
   "metadata": {},
   "outputs": [],
   "source": [
    "models = {\n",
    "    \"RandomForestRegressor\": RandomForestRegressor(n_estimators=200, max_depth=20, min_samples_split=5, min_samples_leaf=2, random_state=42),\n",
    "    \"LinearRegression\": LinearRegression(),\n",
    "    \"SVR\": SVR()\n",
    "}"
   ]
  },
  {
   "cell_type": "code",
   "execution_count": 124,
   "metadata": {},
   "outputs": [],
   "source": [
    "results = {}\n",
    "\n",
    "for model_name, model in models.items():\n",
    "    cv_results = cross_validate(\n",
    "        estimator=model,\n",
    "        X=X,\n",
    "        y=y,\n",
    "        scoring=['neg_mean_squared_error', 'r2'],\n",
    "        cv=5,  # Number of folds\n",
    "        return_train_score=True\n",
    "    )\n",
    "    \n",
    "    # Calculate average performance metrics\n",
    "    avg_train_r2 = cv_results['train_r2'].mean()\n",
    "    avg_test_r2 = cv_results['test_r2'].mean()\n",
    "    avg_train_mse = -cv_results['train_neg_mean_squared_error'].mean()\n",
    "    avg_test_mse = -cv_results['test_neg_mean_squared_error'].mean()\n",
    "    \n",
    "    results[model_name] = {\n",
    "        \"Mean Train MSE\": avg_train_mse,\n",
    "        \"Mean Test MSE\": avg_test_mse,\n",
    "        \"Mean Train R2\": avg_train_r2,\n",
    "        \"Mean Test R2\": avg_test_r2,\n",
    "        \"Overfitting\": avg_train_r2 - avg_test_r2 > 0.1\n",
    "    }\n"
   ]
  },
  {
   "cell_type": "code",
   "execution_count": null,
   "metadata": {},
   "outputs": [],
   "source": [
    "# Display results\n",
    "for model_name, result in results.items():\n",
    "    print(f\"Model: {model_name}\")\n",
    "    print(f\"Mean Train MSE: {result['Mean Train MSE']}\")\n",
    "    print(f\"Mean Test MSE: {result['Mean Test MSE']}\")\n",
    "    print(f\"Mean Train R2: {result['Mean Train R2']}\")\n",
    "    print(f\"Mean Test R2: {result['Mean Test R2']}\")\n",
    "    print(f\"Overfitting: {result['Overfitting']}\")\n",
    "    print(\"-\" * 30)"
   ]
  },
  {
   "cell_type": "code",
   "execution_count": null,
   "metadata": {},
   "outputs": [],
   "source": [
    "pipeline = Pipeline([\n",
    "    (\"model\", RandomForestRegressor())\n",
    "])\n",
    "\n",
    "pipeline.fit(X_train, y_train)\n",
    "y_pred = pipeline.predict(X_test)\n",
    "\n",
    "mse = mean_squared_error(y_test, y_pred)\n",
    "r2 = r2_score(y_test, y_pred)\n",
    "\n",
    "model = pipeline.named_steps[\"model\"]\n",
    "train_score = model.score(X_train, y_train)\n",
    "test_score = model.score(X_test, y_test)\n",
    "\n",
    "\n",
    "print(f\"Model:RandomForestRegressor\")\n",
    "print(f\"Mean Squared Error: {mse}\")\n",
    "print(f\"R2 Score: {r2}\")\n",
    "print(f\"Training Score: {round(train_score*100,2)} %\")\n",
    "print(f\"Testing Score: {round(test_score*100,2)} %\")\n",
    "print(f\"Overfitting: {train_score - test_score > 0.1}\")\n",
    "print(\"-\" * 30)"
   ]
  },
  {
   "cell_type": "markdown",
   "metadata": {},
   "source": [
    "# Hyperparameter Tuning"
   ]
  },
  {
   "cell_type": "code",
   "execution_count": null,
   "metadata": {},
   "outputs": [],
   "source": [
    "pipeline[\"model\"].get_params()"
   ]
  },
  {
   "cell_type": "code",
   "execution_count": 128,
   "metadata": {},
   "outputs": [],
   "source": [
    "modeel= RandomForestRegressor()\n",
    "param={}\n",
    "param = {\n",
    "    'regressor': [modeel],\n",
    "    'regressor__n_estimators': [100, 200, 300,400],  # Changed 'model__' to 'regressor__'\n",
    "    'regressor__max_depth': [None,3, 5,]  # Changed 'model__' to 'regressor__'\n",
    "}"
   ]
  },
  {
   "cell_type": "code",
   "execution_count": 129,
   "metadata": {},
   "outputs": [],
   "source": [
    "pipeline_best = Pipeline([\n",
    "    (\"regressor\", modeel)\n",
    "])\n",
    "params=[param]"
   ]
  },
  {
   "cell_type": "code",
   "execution_count": 130,
   "metadata": {},
   "outputs": [],
   "source": [
    "#Grid Search CV\n",
    "from sklearn.model_selection import GridSearchCV, RandomizedSearchCV\n",
    "\n",
    "grid_search = GridSearchCV(pipeline_best, params, cv=3, return_train_score=True).fit(X_train, y_train)"
   ]
  },
  {
   "cell_type": "code",
   "execution_count": null,
   "metadata": {},
   "outputs": [],
   "source": [
    "grid_search.best_params_"
   ]
  },
  {
   "cell_type": "code",
   "execution_count": null,
   "metadata": {},
   "outputs": [],
   "source": [
    "print(round(grid_search.cv_results_[\"mean_test_score\"].mean()*100,2),\"%\")"
   ]
  },
  {
   "cell_type": "code",
   "execution_count": null,
   "metadata": {},
   "outputs": [],
   "source": [
    "print(round(grid_search.best_score_*100,2),'%')"
   ]
  },
  {
   "cell_type": "code",
   "execution_count": null,
   "metadata": {},
   "outputs": [],
   "source": [
    "print(round(grid_search.cv_results_[\"mean_test_score\"].mean()*100,2),\"%\")\n",
    "print(round(grid_search.cv_results_[\"mean_train_score\"].mean()*100,2),\"%\")"
   ]
  },
  {
   "cell_type": "code",
   "execution_count": null,
   "metadata": {},
   "outputs": [],
   "source": [
    "grid_search.best_estimator_"
   ]
  },
  {
   "cell_type": "code",
   "execution_count": null,
   "metadata": {},
   "outputs": [],
   "source": [
    "pipeline = Pipeline([\n",
    "    (\"model\", RandomForestRegressor())\n",
    "])\n",
    "\n",
    "pipeline.fit(X_train, y_train)\n",
    "y_pred = pipeline.predict(X_test)\n",
    "\n",
    "mse = mean_squared_error(y_test, y_pred)\n",
    "r2 = r2_score(y_test, y_pred)\n",
    "\n",
    "model = pipeline.named_steps[\"model\"]\n",
    "train_score = model.score(X_train, y_train)\n",
    "test_score = model.score(X_test, y_test)\n",
    "\n",
    "\n",
    "print(f\"Training Score: {round(train_score*100,2)} %\")\n",
    "print(f\"Testing Score: {round(test_score*100,2)} %\")\n",
    "\n",
    "print(f\"Model:RandomForestRegressor\")\n",
    "print(f\"Mean Squared Error: {mse}\")\n",
    "print(f\"R2 Score: {r2}\")\n",
    "\n",
    "# Calculate Root Mean Squared Error (RMSE)\n",
    "rmse = np.sqrt(mse)\n",
    "# Calculate Mean Absolute Error (MAE)\n",
    "mae = mean_absolute_error(y_test, y_pred)\n",
    "\n",
    "print(f\"Overfitting: {train_score - test_score > 0.1}\")\n",
    "print(\"-\" * 30)"
   ]
  },
  {
   "cell_type": "markdown",
   "metadata": {},
   "source": [
    "# Model Saving & Deployment"
   ]
  },
  {
   "cell_type": "code",
   "execution_count": 137,
   "metadata": {},
   "outputs": [],
   "source": [
    "import joblib\n",
    "import pandas as pd\n",
    "import streamlit as st"
   ]
  },
  {
   "cell_type": "code",
   "execution_count": null,
   "metadata": {},
   "outputs": [],
   "source": [
    "print(X.columns)\n",
    "print(pipeline)"
   ]
  },
  {
   "cell_type": "code",
   "execution_count": null,
   "metadata": {},
   "outputs": [],
   "source": [
    "\n",
    "joblib.dump(pipeline , \"Third_Group.pkl\")\n",
    "joblib.dump(X.columns,\"Inputs.pkl\")"
   ]
  },
  {
   "cell_type": "code",
   "execution_count": 180,
   "metadata": {},
   "outputs": [
    {
     "name": "stdout",
     "output_type": "stream",
     "text": [
      "Overwriting app.py\n"
     ]
    }
   ],
   "source": [
    "%%writefile app.py\n",
    "import joblib\n",
    "import pandas as pd\n",
    "import streamlit as st\n",
    "\n",
    "# Load the model and input features\n",
    "model = joblib.load(\"Third_Group.pkl\")\n",
    "inputs = joblib.load(\"Inputs.pkl\")\n",
    "\n",
    "# Define mappings for categorical features\n",
    "airline_mapping = {\n",
    "    \"Air Asia\": 0,\n",
    "    \"Air India\": 1,\n",
    "    \"GoAir\": 2,\n",
    "    \"IndiGo\": 3,\n",
    "    \"Jet Airways\": 4,\n",
    "    \"Multiple carriers\": 5,\n",
    "    \"SpiceJet\": 6,\n",
    "    \"Vistara\": 7\n",
    "}\n",
    "\n",
    "source_mapping = {\n",
    "    \"Banglore\": 0,\n",
    "    \"Kolkata\": 1,\n",
    "    \"Delhi\": 2,\n",
    "    \"Chennai\": 3,\n",
    "    \"Mumbai\": 4\n",
    "}\n",
    "\n",
    "destination_mapping = {\n",
    "    \"New Delhi\": 0,\n",
    "    \"Banglore\": 1,\n",
    "    \"Cochin\": 2,\n",
    "    \"Kolkata\": 3,\n",
    "    \"Delhi\": 4,\n",
    "    \"Hyderabad\": 5\n",
    "}\n",
    "\n",
    "stops_mapping = {\n",
    "    \"non-stop\": 0,\n",
    "    \"1 stop\": 1,\n",
    "    \"2 stops\": 2,\n",
    "    \"3 stops\": 3,\n",
    "    \"4 stops\": 4\n",
    "}\n",
    "\n",
    "additional_info_mapping = {\n",
    "    \"No info\": 0,\n",
    "    \"Business class\": 1,\n",
    "    \"Economy class\": 2\n",
    "}\n",
    "\n",
    "route_mapping = {\n",
    "    \"Direct\": 0,\n",
    "    \"Indirect\": 1\n",
    "}\n",
    "\n",
    "def prediction(Airline, Source, Destination, Route, Additional_Info,\n",
    "               Journey_Day, Journey_Month, Dep_Hour, Dep_Minute,\n",
    "               Arrival_Hour, Arrival_Minute, Duration_Minutes, Total_Stops):\n",
    "    # Encode categorical features\n",
    "    Airline = airline_mapping.get(Airline, -1)\n",
    "    Source = source_mapping.get(Source, -1)\n",
    "    Destination = destination_mapping.get(Destination, -1)\n",
    "    Route = route_mapping.get(Route, -1)\n",
    "    Additional_Info = additional_info_mapping.get(Additional_Info, -1)\n",
    "    Total_Stops = stops_mapping.get(Total_Stops, -1)\n",
    "    \n",
    "    # Create DataFrame with encoded values in the correct order\n",
    "    feature_values = [\n",
    "        Airline,\n",
    "        Source,\n",
    "        Destination,\n",
    "        Route,\n",
    "        Additional_Info,\n",
    "        Journey_Day,\n",
    "        Journey_Month,\n",
    "        Dep_Hour,\n",
    "        Dep_Minute,\n",
    "        Arrival_Hour,\n",
    "        Arrival_Minute,\n",
    "        Duration_Minutes,\n",
    "        Total_Stops\n",
    "    ]\n",
    "    \n",
    "    # Ensure the feature order matches the training\n",
    "    df = pd.DataFrame([feature_values], columns=inputs)\n",
    "    \n",
    "    result = model.predict(df)[0]\n",
    "    return result\n",
    "\n",
    "def main():\n",
    "    st.title(\"Flight Fare Prediction App\")\n",
    "    \n",
    "    # Create two tabs\n",
    "    tab1, tab2 = st.tabs([\"About\",\"Prediction\"])\n",
    "    \n",
    "    with tab1:\n",
    "        st.image(\"plane.jpg\") \n",
    "        st.header(\"About the Model\")\n",
    "        st.write(\"\"\"\n",
    "            This application uses a machine learning model to predict airline ticket prices based on various parameters such as airline, source, destination, and more.\n",
    "            \n",
    "            **Features:**\n",
    "            - **Airline:** The airline operating the flight.\n",
    "            - **Source:** The departure city.\n",
    "            - **Destination:** The arrival city.\n",
    "            - **Route:** Direct or indirect flight.\n",
    "            - **Additional Info:** Class of service.\n",
    "            - **Journey Date:** Day and month of the journey.\n",
    "            - **Departure and Arrival Times:** Hours and minutes.\n",
    "            - **Duration:** Flight duration in minutes.\n",
    "            - **Total Stops:** Number of stops during the journey.\n",
    "        \"\"\")    \n",
    "    \n",
    "    with tab2:\n",
    "    \n",
    "        st.header(\"Predict Flight Fare\")\n",
    "        \n",
    "        Airline = st.selectbox(\"Airline\", list(airline_mapping.keys()))\n",
    "        Source = st.selectbox(\"Source\", list(source_mapping.keys()))\n",
    "        Destination = st.selectbox(\"Destination\", list(destination_mapping.keys()))\n",
    "        Route = st.selectbox(\"Route\", list(route_mapping.keys()))\n",
    "        Additional_Info = st.selectbox(\"Additional Info\", list(additional_info_mapping.keys()))\n",
    "        Journey_Day = st.slider(\"Journey Day\", 1, 31, 15)\n",
    "        Journey_Month = st.slider(\"Journey Month\", 1, 12, 6)\n",
    "        Dep_Hour = st.slider(\"Departure Hour\", 0, 23, 12)\n",
    "        Dep_Minute = st.slider(\"Departure Minute\", 0, 59, 30)\n",
    "        Arrival_Hour = st.slider(\"Arrival Hour\", 0, 23, 15)\n",
    "        Arrival_Minute = st.slider(\"Arrival Minute\", 0, 59, 45)\n",
    "        Duration_Minutes = st.slider(\"Duration Minutes\", 0, 2860, 30)\n",
    "        Total_Stops = st.selectbox(\"Total Stops\", list(stops_mapping.keys()))\n",
    "        \n",
    "        if st.button(\"Predict Fare\"):\n",
    "            result = prediction(\n",
    "                Airline, Source, Destination, Route, Additional_Info,\n",
    "                Journey_Day, Journey_Month, Dep_Hour, Dep_Minute,\n",
    "                Arrival_Hour, Arrival_Minute, Duration_Minutes, Total_Stops\n",
    "            )\n",
    "            st.success(f\"Estimated Ticket Price: ₹ {result:.2f}\")\n",
    "if __name__ == \"__main__\":\n",
    "    main()"
   ]
  },
  {
   "cell_type": "code",
   "execution_count": null,
   "metadata": {},
   "outputs": [],
   "source": []
  }
 ],
 "metadata": {
  "kernelspec": {
   "display_name": "Python 3",
   "language": "python",
   "name": "python3"
  },
  "language_info": {
   "codemirror_mode": {
    "name": "ipython",
    "version": 3
   },
   "file_extension": ".py",
   "mimetype": "text/x-python",
   "name": "python",
   "nbconvert_exporter": "python",
   "pygments_lexer": "ipython3",
   "version": "3.13.1"
  }
 },
 "nbformat": 4,
 "nbformat_minor": 2
}
